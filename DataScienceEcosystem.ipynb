{
 "cells": [
  {
   "cell_type": "markdown",
   "id": "24746b12-ce56-4e21-9d5e-73a1f3b28b99",
   "metadata": {},
   "source": [
    "# Data Science Tools and Ecosystem"
   ]
  },
  {
   "cell_type": "markdown",
   "id": "725bd59a-51a3-4d7f-8f43-09de0b328de1",
   "metadata": {},
   "source": [
    "##### In this notebook, Data Science Tools and Ecosystem are summarized."
   ]
  },
  {
   "cell_type": "markdown",
   "id": "116214eb-2a5d-463a-9046-75ed6b60955a",
   "metadata": {},
   "source": [
    "**Objectives:**\n",
    "+ Build a Jupyter Notebook - Markdown cells (headings/explanations), Code cells (executable Python/R)\n",
    "+ Languages: Python, SQL, R\n",
    "+ Libraries: Pandas, scikit-learn, TensorFlow\n",
    "+ Tools: JupyterLab, Tableau, Git\n",
    "+ Publish Notebook on GitHub"
   ]
  },
  {
   "cell_type": "markdown",
   "id": "6d95e406-deba-4b52-91ce-db71e52ec5fc",
   "metadata": {},
   "source": [
    "**Some of the popular languages that Data Scientists use are:**\n",
    "1. Python\n",
    "2. R\n",
    "3. SQL"
   ]
  },
  {
   "cell_type": "markdown",
   "id": "eb5bff0e-8bb4-41d4-99db-879847d8ddea",
   "metadata": {},
   "source": [
    "**Some of the commonly used libraries used by Data Scientists include:**\n",
    "+ Matplotlib\n",
    "+ Numpy\n",
    "+ Pandas"
   ]
  },
  {
   "cell_type": "markdown",
   "id": "a493b2fc-8f50-4e54-9de0-183c419baee6",
   "metadata": {},
   "source": [
    "|**Data Science Tools**|\n",
    "|----------------------|\n",
    "|Jupyter Notebook|\n",
    "|VS Code|\n",
    "|RStudio|"
   ]
  },
  {
   "cell_type": "markdown",
   "id": "94eea43f-0dca-4017-b641-097c528c142b",
   "metadata": {},
   "source": [
    "### Below are a few examples of evaluating arithmetic expressions in Python\n",
    "'This a simple arithmetic expression to mutiply then add integers'"
   ]
  },
  {
   "cell_type": "code",
   "execution_count": 2,
   "id": "c11e077b-ec05-46cd-9492-80b4d4db93a3",
   "metadata": {},
   "outputs": [
    {
     "data": {
      "text/plain": [
       "17"
      ]
     },
     "execution_count": 2,
     "metadata": {},
     "output_type": "execute_result"
    }
   ],
   "source": [
    "(3*4)+5"
   ]
  },
  {
   "cell_type": "markdown",
   "id": "d6df37ee-d57a-443c-985d-f58e6a2c94f9",
   "metadata": {},
   "source": [
    "\"This will convert 200 minutes to hours by diving by 60\""
   ]
  },
  {
   "cell_type": "code",
   "execution_count": 4,
   "id": "f763e120-f5b7-4027-bd23-c926a2ab192c",
   "metadata": {},
   "outputs": [
    {
     "data": {
      "text/plain": [
       "3.3333333333333335"
      ]
     },
     "execution_count": 4,
     "metadata": {},
     "output_type": "execute_result"
    }
   ],
   "source": [
    "200/60"
   ]
  },
  {
   "cell_type": "markdown",
   "id": "4cd63cd2-df70-4b20-8ea3-7da9e5029ba3",
   "metadata": {},
   "source": [
    "### Author\n",
    "##### Mohamed Amri"
   ]
  }
 ],
 "metadata": {
  "kernelspec": {
   "display_name": "Python 3 (ipykernel)",
   "language": "python",
   "name": "python3"
  },
  "language_info": {
   "codemirror_mode": {
    "name": "ipython",
    "version": 3
   },
   "file_extension": ".py",
   "mimetype": "text/x-python",
   "name": "python",
   "nbconvert_exporter": "python",
   "pygments_lexer": "ipython3",
   "version": "3.13.2"
  }
 },
 "nbformat": 4,
 "nbformat_minor": 5
}
